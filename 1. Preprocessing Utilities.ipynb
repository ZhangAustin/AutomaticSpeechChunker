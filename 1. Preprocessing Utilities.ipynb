{
 "metadata": {
  "name": "",
  "signature": "sha256:f50e47b557d4f08d2e74ee39e2a6f89f03c04d04ebe12e582ac77d3360f13b7e"
 },
 "nbformat": 3,
 "nbformat_minor": 0,
 "worksheets": [
  {
   "cells": [
    {
     "cell_type": "heading",
     "level": 1,
     "metadata": {},
     "source": [
      "Partition (Recursively)"
     ]
    },
    {
     "cell_type": "markdown",
     "metadata": {},
     "source": [
      "Partition a segment of audio files into subdirectories of N files.\n",
      "\n",
      "N is currently recommended as 50-100; more than that and there may be a cascading effect of chunking errors which can invalidate all samples after a certain point. This does not seem to happen with a partition size of 50, and infrequently at 100. While it is a bit of a pain to listen to every 50th audio file to line up the text, keep in mind that his is better than doing everything manually :)"
     ]
    },
    {
     "cell_type": "code",
     "collapsed": false,
     "input": [
      "import os\n",
      "import shutil\n",
      "import numpy as np\n",
      "import math"
     ],
     "language": "python",
     "metadata": {},
     "outputs": [],
     "prompt_number": 43
    },
    {
     "cell_type": "code",
     "collapsed": false,
     "input": [
      "def get_story_paths(root_dir):\n",
      "    assert(os.path.isdir(root_dir))\n",
      "    return [os.path.join(root_dir, dirr) for dirr in os.listdir(root_dir) if os.path.isdir(os.path.join(root_dir, dirr))]"
     ],
     "language": "python",
     "metadata": {},
     "outputs": [],
     "prompt_number": 21
    },
    {
     "cell_type": "code",
     "collapsed": false,
     "input": [
      "def get_story_segment_paths(root_dir=None, list_of_story_paths=None):\n",
      "    assert(root_dir is not None or list_of_story_paths is not None)\n",
      "    \n",
      "    if root_dir is not None:\n",
      "        list_of_story_paths = get_story_paths(root_dir)\n",
      "        \n",
      "    segment_directories = []\n",
      "    for story_directory in list_of_story_paths:\n",
      "        for segment_directory in [dirr for dirr in os.listdir(story_directory) if os.path.isdir(os.path.join(story_directory, dirr))]:\n",
      "            segment_directories.append(os.path.join(story_directory, segment_directory))\n",
      "    return segment_directories"
     ],
     "language": "python",
     "metadata": {},
     "outputs": [],
     "prompt_number": 28
    },
    {
     "cell_type": "code",
     "collapsed": false,
     "input": [
      "def partition_audio_files(root_dir, N=50):\n",
      "    assert(os.path.isdir(root_dir))\n",
      "    \n",
      "    segment_directories = get_story_segment_paths(root_dir=root_dir)\n",
      "    \n",
      "    for segment_directory in segment_directories:\n",
      "        # get a list of the wav files\n",
      "        wav_files = [fname for fname in os.listdir(segment_directory) if fname.lower().endswith('.wav')]\n",
      "        wav_files.sort(key=lambda fname: int(os.path.splitext(fname)[0].split('-')[-1]))\n",
      "        \n",
      "        # check if some files have already been partitioned\n",
      "        existing_dirs = [dirr for dirr in os.listdir(segment_directory) if os.path.isdir(os.path.join(segment_directory, dirr))]\n",
      "        existing_dirs_integers = []\n",
      "        for dirr in existing_dirs:\n",
      "            try:\n",
      "                existing_dirs_integers.append(int(dirr))\n",
      "            except: pass\n",
      "        if existing_dirs_integers == []: starting_index = 0\n",
      "        else: starting_index = int(max(existing_dirs_integers))+1\n",
      "        \n",
      "        # Create the directories and move the files\n",
      "        partition = 0\n",
      "        for i in np.arange(starting_index, int(math.ceil(len(wav_files)/float(N)))+starting_index):\n",
      "            os.mkdir(os.path.join(segment_directory, str(i)))\n",
      "            \n",
      "            for wav_file in wav_files[partition*N:(partition+1)*N]:\n",
      "                shutil.move(os.path.join(segment_directory, wav_file), os.path.join(segment_directory, str(i), wav_file))\n",
      "            \n",
      "            partition += 1\n",
      "            \n",
      "            "
     ],
     "language": "python",
     "metadata": {},
     "outputs": [],
     "prompt_number": 91
    },
    {
     "cell_type": "code",
     "collapsed": false,
     "input": [
      "partition_audio_files('/media/pat/sda3/speech_v1')"
     ],
     "language": "python",
     "metadata": {},
     "outputs": [],
     "prompt_number": 93
    },
    {
     "cell_type": "heading",
     "level": 1,
     "metadata": {},
     "source": [
      "Sanitize Partitioned Text"
     ]
    },
    {
     "cell_type": "markdown",
     "metadata": {},
     "source": [
      "Sanitize the text to only contain characters that are in the model. This runs over the text files in /speech_v#/story/story_segment/partition/\\*.txt\n",
      "\n",
      "Currently, this is \"abcd...xyz\", and blank (although technically, '-' and ''' are as well, but the training data did not contain them, so p('-' or '''|input)==0.0)."
     ]
    },
    {
     "cell_type": "code",
     "collapsed": false,
     "input": [
      "def get_story_segment_partition_paths(root_dir=None, list_of_story_paths=None, list_of_segment_paths=None):\n",
      "    assert(root_dir is not None or list_of_story_paths is not None or list_of_segment_paths is not None)\n",
      "    \n",
      "    if root_dir is not None:\n",
      "        list_of_segment_paths = get_story_segment_paths(root_dir=root_dir)\n",
      "    elif list_of_story_paths is not None:\n",
      "        list_of_segment_paths = get_story_segment_paths(list_of_story_paths=list_of_story_paths)\n",
      "    \n",
      "    partition_paths = []\n",
      "    for segment_path in list_of_segment_paths:\n",
      "        for partition_folder in [dirr for dirr in os.listdir(segment_path) if os.path.isdir(os.path.join(segment_path, dirr))]:\n",
      "            try:\n",
      "                # make sure the folder is an iteger name\n",
      "                int(partition_folder)\n",
      "                \n",
      "                partition_paths.append(os.path.join(segment_path, partition_folder))\n",
      "            except:\n",
      "                pass\n",
      "    \n",
      "    return partition_paths"
     ],
     "language": "python",
     "metadata": {},
     "outputs": [],
     "prompt_number": 171
    },
    {
     "cell_type": "code",
     "collapsed": false,
     "input": [
      "def santize_text(text):\n",
      "    # This is not an exhaustive list of forbidden characters; we need to implement a unicode -> \"close ASCII\" converter.\n",
      "    # E.G. \u00e9 -> e, or perhaps a phonetic spelling?\n",
      "    bad_characters_remove = ['.', ',', ':', '?', '_', '!', '\"', ';', \"'\", '*']\n",
      "    bad_characters_replace_with_space = ['-', '\\t']\n",
      "    \n",
      "    # Numerals... Ah, why can't we just say one zero three instead of one hundred and three or many of the variations.\n",
      "    # It may be best to replace with the literal, single digit translation, and remove those chunks after the fact\n",
      "    \n",
      "    text = text.lower().replace('\\r\\n', ' ').replace('\\n', ' ')\n",
      "    text = text.translate(None, ''.join(bad_characters_remove))\n",
      "    for char in bad_characters_replace_with_space: text = text.replace(char, ' ')\n",
      "    \n",
      "    # replace double spaces\n",
      "    while '  ' in text:\n",
      "        text = text.replace('  ', ' ')\n",
      "        \n",
      "    return text.replace('\\n', ' ').replace('\\t', ' ')"
     ],
     "language": "python",
     "metadata": {},
     "outputs": [],
     "prompt_number": 183
    },
    {
     "cell_type": "code",
     "collapsed": false,
     "input": [
      "def santize_partitioned_text(root_dir):\n",
      "    partition_paths = get_story_segment_partition_paths(root_dir=root_dir)\n",
      "    \n",
      "    for partition_path in partition_paths:\n",
      "        for text_file_name in [fname for fname in os.listdir(partition_path) if fname.endswith('.txt')]:\n",
      "            text = ''\n",
      "            # read and sanitize\n",
      "            with open(os.path.join(partition_path, text_file_name), 'r') as f:\n",
      "                text = f.read()\n",
      "                text = santize_text(text)\n",
      "            \n",
      "            # write back\n",
      "            with open(os.path.join(partition_path, text_file_name), 'w') as f:\n",
      "                f.write(text)"
     ],
     "language": "python",
     "metadata": {},
     "outputs": [],
     "prompt_number": 184
    },
    {
     "cell_type": "code",
     "collapsed": false,
     "input": [
      "santize_partitioned_text('/media/pat/sda3/speech_v1')"
     ],
     "language": "python",
     "metadata": {},
     "outputs": [],
     "prompt_number": 185
    },
    {
     "cell_type": "code",
     "collapsed": false,
     "input": [],
     "language": "python",
     "metadata": {},
     "outputs": []
    }
   ],
   "metadata": {}
  }
 ]
}