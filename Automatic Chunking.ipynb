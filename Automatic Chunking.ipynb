{
 "metadata": {
  "name": "",
  "signature": "sha256:1c2f899fae27b00354162d77ed35207fc31a01da9e65358a280eae4c254cd36b"
 },
 "nbformat": 3,
 "nbformat_minor": 0,
 "worksheets": [
  {
   "cells": [
    {
     "cell_type": "code",
     "collapsed": false,
     "input": [
      "import speech_model_trained as nn    # Load a trained model\n",
      "import chunker                       # Find the CTC cost of a label, given an audio file Softmax output\n",
      "\n",
      "import cPickle as pickle\n",
      "import numpy as np\n",
      "import math\n",
      "import time\n",
      "from itertools import groupby\n",
      "import matplotlib.pyplot as plt\n",
      "from matplotlib.lines import Line2D\n",
      "\n",
      "from features import logfbank\n",
      "import scipy.io.wavfile as wav"
     ],
     "language": "python",
     "metadata": {},
     "outputs": [
      {
       "output_type": "stream",
       "stream": "stdout",
       "text": [
        "Couldn't import dot_parser, loading of dot files will not be possible.\n"
       ]
      }
     ],
     "prompt_number": 1
    },
    {
     "cell_type": "code",
     "collapsed": false,
     "input": [
      "def str_to_seq(str):\n",
      "    seq = []\n",
      "    for c in str:\n",
      "        val = ord(c)\n",
      "        if val==32:\n",
      "            val = 26\n",
      "        elif val==39:\n",
      "            val=27\n",
      "        elif val==45:\n",
      "            val=28\n",
      "        else:\n",
      "            val-=97\n",
      "        seq.append(val)\n",
      "    return seq\n",
      "    \n",
      "\n",
      "def seq_to_str(seq):\n",
      "    str = ''\n",
      "    for elem in seq:\n",
      "        if elem==26:\n",
      "            str += ' '\n",
      "        elif elem==27:\n",
      "            str += '\\''\n",
      "        elif elem==28:\n",
      "            str += '-'\n",
      "        elif elem==29:\n",
      "            pass\n",
      "        else:\n",
      "            str += chr(elem+97)\n",
      "    return str\n",
      "\n",
      "def good_path(probs, blank=29):\n",
      "    out = []\n",
      "    for timestep in probs:\n",
      "        if timestep[blank]<.7:\n",
      "            tmp = blank\n",
      "            tmp_max = 0.0\n",
      "            for i in np.arange(len(timestep[:-1])):\n",
      "                if timestep[i]>tmp_max and timestep[i] > .2:\n",
      "                    tmp = i\n",
      "                    tmp_max = timestep[i]\n",
      "            out.append(tmp)\n",
      "            #out.append(np.argmax(timestep[:-1]))\n",
      "        else:\n",
      "            out.append(np.argmax(timestep))\n",
      "    return out\n",
      "    \n",
      "\n",
      "# Remove consecutive symbols and blanks\n",
      "def F(pi, blank):\n",
      "    return [a for a in [key for key, _ in groupby(pi)] if a != blank]\n",
      "    \n",
      "\n",
      "# Insert blanks between unique symbols, and at the beginning and end\n",
      "def make_l_prime(l, blank):\n",
      "    result = [blank] * (len(l) * 2 + 1)\n",
      "    result[1::2] = l\n",
      "    return result\n",
      "\n",
      "def send_label_to_trainer(l, blank):\n",
      "    label = str_to_seq(l)\n",
      "    label = F(label, blank)\n",
      "    return make_l_prime(label, blank)\n",
      "\n",
      "def window_data(audio_sample):\n",
      "    # Window\n",
      "    window_size = 9\n",
      "\n",
      "    silence = np.asarray([silence_raw]*window_size)\n",
      "\n",
      "    # append silence to both ends\n",
      "    win_feats = np.concatenate((silence, audio_sample))\n",
      "    win_feats = np.concatenate((win_feats, silence))\n",
      "\n",
      "    windowed = []\n",
      "    for i in np.arange(window_size, len(win_feats)-window_size):\n",
      "        windowed.append(np.concatenate(([win_feats[i+j] for j in np.arange(-window_size, window_size+1)])))\n",
      "\n",
      "    return np.asarray(windowed, dtype='float32')\n",
      "\n",
      "def log_add_logs(loga, logb):\n",
      "    return loga + np.log(1 + np.exp(logb - loga))"
     ],
     "language": "python",
     "metadata": {},
     "outputs": [],
     "prompt_number": 2
    },
    {
     "cell_type": "code",
     "collapsed": false,
     "input": [
      "alphabet = np.arange(29) #[a,....,z, space, ', -]"
     ],
     "language": "python",
     "metadata": {},
     "outputs": [],
     "prompt_number": 3
    },
    {
     "cell_type": "code",
     "collapsed": false,
     "input": [
      "net = nn.Network()\n",
      "rng = np.random.RandomState(1234)"
     ],
     "language": "python",
     "metadata": {},
     "outputs": [],
     "prompt_number": 4
    },
    {
     "cell_type": "code",
     "collapsed": false,
     "input": [
      "network = net.load_network('209.pkl', 1216, len(alphabet)+1, .00001, .75)"
     ],
     "language": "python",
     "metadata": {},
     "outputs": [
      {
       "output_type": "stream",
       "stream": "stderr",
       "text": [
        "/usr/local/lib/python2.7/dist-packages/theano/scan_module/scan_perform_ext.py:133: RuntimeWarning: numpy.ndarray size changed, may indicate binary incompatibility\n",
        "  from scan_perform.scan_perform import *\n"
       ]
      }
     ],
     "prompt_number": 5
    },
    {
     "cell_type": "code",
     "collapsed": false,
     "input": [
      "chunk = chunker.Chunker()"
     ],
     "language": "python",
     "metadata": {},
     "outputs": [],
     "prompt_number": 13
    },
    {
     "cell_type": "code",
     "collapsed": false,
     "input": [
      "# Load Metadata (silence, mean of the training data, stdDev of the training data)\n",
      "f = open('Training_Meta.pkl', 'rb')\n",
      "silence_raw, train_mean, train_std = pickle.load(f)\n",
      "f.close()"
     ],
     "language": "python",
     "metadata": {},
     "outputs": [],
     "prompt_number": 6
    },
    {
     "cell_type": "code",
     "collapsed": false,
     "input": [
      "files = ['/home/pat/Desktop/librivox/tmp/astoundingstories04_01-12.wav',\n",
      "'/home/pat/Desktop/librivox/tmp/astoundingstories04_01-13.wav',\n",
      "'/home/pat/Desktop/librivox/tmp/astoundingstories04_01-14.wav',\n",
      "'/home/pat/Desktop/librivox/tmp/astoundingstories04_01-15.wav',\n",
      "'/home/pat/Desktop/librivox/tmp/astoundingstories04_01-16.wav',\n",
      "'/home/pat/Desktop/librivox/tmp/astoundingstories04_01-17.wav',\n",
      "'/home/pat/Desktop/librivox/tmp/astoundingstories04_01-18.wav',\n",
      "'/home/pat/Desktop/librivox/tmp/astoundingstories04_01-19.wav',\n",
      "'/home/pat/Desktop/librivox/tmp/astoundingstories04_01-20.wav',\n",
      "'/home/pat/Desktop/librivox/tmp/astoundingstories04_01-21.wav',\n",
      "'/home/pat/Desktop/librivox/tmp/astoundingstories04_01-22.wav',\n",
      "'/home/pat/Desktop/librivox/tmp/astoundingstories04_01-23.wav',\n",
      "'/home/pat/Desktop/librivox/tmp/astoundingstories04_01-24.wav',\n",
      "'/home/pat/Desktop/librivox/tmp/astoundingstories04_01-25.wav',\n",
      "'/home/pat/Desktop/librivox/tmp/astoundingstories04_01-26.wav',\n",
      "'/home/pat/Desktop/librivox/tmp/astoundingstories04_01-27.wav',\n",
      "'/home/pat/Desktop/librivox/tmp/astoundingstories04_01-28.wav',\n",
      "'/home/pat/Desktop/librivox/tmp/astoundingstories04_01-29.wav',\n",
      "'/home/pat/Desktop/librivox/tmp/astoundingstories04_01-30.wav',\n",
      "'/home/pat/Desktop/librivox/tmp/astoundingstories04_01-31.wav',\n",
      "'/home/pat/Desktop/librivox/tmp/astoundingstories04_01-32.wav',\n",
      "'/home/pat/Desktop/librivox/tmp/astoundingstories04_01-33.wav',\n",
      "'/home/pat/Desktop/librivox/tmp/astoundingstories04_01-34.wav',\n",
      "'/home/pat/Desktop/librivox/tmp/astoundingstories04_01-35.wav',\n",
      "'/home/pat/Desktop/librivox/tmp/astoundingstories04_01-36.wav',\n",
      "'/home/pat/Desktop/librivox/tmp/astoundingstories04_01-37.wav',\n",
      "'/home/pat/Desktop/librivox/tmp/astoundingstories04_01-38.wav',\n",
      "'/home/pat/Desktop/librivox/tmp/astoundingstories04_01-39.wav',\n",
      "'/home/pat/Desktop/librivox/tmp/astoundingstories04_01-40.wav',\n",
      "'/home/pat/Desktop/librivox/tmp/astoundingstories04_01-41.wav',\n",
      "'/home/pat/Desktop/librivox/tmp/astoundingstories04_01-42.wav',\n",
      "'/home/pat/Desktop/librivox/tmp/astoundingstories04_01-43.wav',\n",
      "'/home/pat/Desktop/librivox/tmp/astoundingstories04_01-44.wav',\n",
      "'/home/pat/Desktop/librivox/tmp/astoundingstories04_01-45.wav',\n",
      "'/home/pat/Desktop/librivox/tmp/astoundingstories04_01-46.wav',\n",
      "'/home/pat/Desktop/librivox/tmp/astoundingstories04_01-47.wav',\n",
      "'/home/pat/Desktop/librivox/tmp/astoundingstories04_01-48.wav',\n",
      "'/home/pat/Desktop/librivox/tmp/astoundingstories04_01-49.wav',\n",
      "'/home/pat/Desktop/librivox/tmp/astoundingstories04_01-50.wav',\n",
      "'/home/pat/Desktop/librivox/tmp/astoundingstories04_01-51.wav',\n",
      "'/home/pat/Desktop/librivox/tmp/astoundingstories04_01-52.wav',\n",
      "'/home/pat/Desktop/librivox/tmp/astoundingstories04_01-53.wav',\n",
      "'/home/pat/Desktop/librivox/tmp/astoundingstories04_01-54.wav',\n",
      "'/home/pat/Desktop/librivox/tmp/astoundingstories04_01-55.wav',\n",
      "'/home/pat/Desktop/librivox/tmp/astoundingstories04_01-56.wav',\n",
      "'/home/pat/Desktop/librivox/tmp/astoundingstories04_01-57.wav',\n",
      "'/home/pat/Desktop/librivox/tmp/astoundingstories04_01-58.wav',\n",
      "'/home/pat/Desktop/librivox/tmp/astoundingstories04_01-59.wav',\n",
      "'/home/pat/Desktop/librivox/tmp/astoundingstories04_01-60.wav',\n",
      "'/home/pat/Desktop/librivox/tmp/astoundingstories04_01-61.wav',\n",
      "'/home/pat/Desktop/librivox/tmp/astoundingstories04_01-62.wav',\n",
      "'/home/pat/Desktop/librivox/tmp/astoundingstories04_01-63.wav',\n",
      "'/home/pat/Desktop/librivox/tmp/astoundingstories04_01-64.wav',\n",
      "'/home/pat/Desktop/librivox/tmp/astoundingstories04_01-65.wav',\n",
      "'/home/pat/Desktop/librivox/tmp/astoundingstories04_01-66.wav',\n",
      "'/home/pat/Desktop/librivox/tmp/astoundingstories04_01-67.wav',\n",
      "'/home/pat/Desktop/librivox/tmp/astoundingstories04_01-68.wav',\n",
      "'/home/pat/Desktop/librivox/tmp/astoundingstories04_01-69.wav',\n",
      "'/home/pat/Desktop/librivox/tmp/astoundingstories04_01-70.wav',\n",
      "'/home/pat/Desktop/librivox/tmp/astoundingstories04_01-71.wav',\n",
      "'/home/pat/Desktop/librivox/tmp/astoundingstories04_01-72.wav',\n",
      "'/home/pat/Desktop/librivox/tmp/astoundingstories04_01-73.wav',\n",
      "'/home/pat/Desktop/librivox/tmp/astoundingstories04_01-74.wav',\n",
      "'/home/pat/Desktop/librivox/tmp/astoundingstories04_01-75.wav',\n",
      "'/home/pat/Desktop/librivox/tmp/astoundingstories04_01-76.wav',\n",
      "'/home/pat/Desktop/librivox/tmp/astoundingstories04_01-77.wav',\n",
      "'/home/pat/Desktop/librivox/tmp/astoundingstories04_01-78.wav',\n",
      "'/home/pat/Desktop/librivox/tmp/astoundingstories04_01-79.wav',\n",
      "'/home/pat/Desktop/librivox/tmp/astoundingstories04_01-80.wav',\n",
      "'/home/pat/Desktop/librivox/tmp/astoundingstories04_01-81.wav',\n",
      "'/home/pat/Desktop/librivox/tmp/astoundingstories04_01-82.wav',\n",
      "'/home/pat/Desktop/librivox/tmp/astoundingstories04_01-83.wav',\n",
      "'/home/pat/Desktop/librivox/tmp/astoundingstories04_01-84.wav',\n",
      "'/home/pat/Desktop/librivox/tmp/astoundingstories04_01-85.wav',\n",
      "'/home/pat/Desktop/librivox/tmp/astoundingstories04_01-86.wav',\n",
      "'/home/pat/Desktop/librivox/tmp/astoundingstories04_01-87.wav',\n",
      "'/home/pat/Desktop/librivox/tmp/astoundingstories04_01-88.wav',\n",
      "'/home/pat/Desktop/librivox/tmp/astoundingstories04_01-89.wav',\n",
      "'/home/pat/Desktop/librivox/tmp/astoundingstories04_01-90.wav',\n",
      "'/home/pat/Desktop/librivox/tmp/astoundingstories04_01-91.wav']"
     ],
     "language": "python",
     "metadata": {},
     "outputs": [],
     "prompt_number": 7
    },
    {
     "cell_type": "code",
     "collapsed": false,
     "input": [
      "samples = []\n",
      "for f in files:\n",
      "    (rate,sig) = wav.read(f)\n",
      "    fbank_feat = logfbank(sig,rate,nfft=512,nfilt=64)\n",
      "    \n",
      "    fbank_feat=(fbank_feat-train_mean)/ train_std\n",
      "    \n",
      "    samples.append(fbank_feat)"
     ],
     "language": "python",
     "metadata": {},
     "outputs": [
      {
       "output_type": "stream",
       "stream": "stderr",
       "text": [
        "/usr/local/lib/python2.7/dist-packages/scipy/io/wavfile.py:172: WavFileWarning: Chunk (non-data) not understood, skipping it.\n",
        "  WavFileWarning)\n"
       ]
      }
     ],
     "prompt_number": 8
    },
    {
     "cell_type": "code",
     "collapsed": false,
     "input": [
      "print len(samples)"
     ],
     "language": "python",
     "metadata": {},
     "outputs": [
      {
       "output_type": "stream",
       "stream": "stdout",
       "text": [
        "80\n"
       ]
      }
     ],
     "prompt_number": 9
    },
    {
     "cell_type": "code",
     "collapsed": false,
     "input": [
      "text = []\n",
      "with open('/home/pat/Desktop/librivox/tmp/raw', 'r') as f:\n",
      "    for line in f:\n",
      "        text.append(line.strip().lower())\n",
      "text = text[0]"
     ],
     "language": "python",
     "metadata": {},
     "outputs": [],
     "prompt_number": 10
    },
    {
     "cell_type": "code",
     "collapsed": false,
     "input": [
      "print text"
     ],
     "language": "python",
     "metadata": {},
     "outputs": [
      {
       "output_type": "stream",
       "stream": "stdout",
       "text": [
        "as jerrys eyes fell on the creatures head he shuddered for the face was nothing but bone with dull brown skin stretched taut over it a skeleton that was alive it was a wicked night the night i met the man who had died a bitter heart numbing night of weird shrieking wind and flying snow a few black hours i will never forget well jerry lad my mother said to me as i pushed back from the table and started for my sheepskin coat and the lantern in the corner of the room surely youre not going out a night like this goodness gracious jerry its not fit cant help it mother i replied got to go youve never seen me miss a saturday night yet have you now no but then ive never seen a night like this for years either jerry im really afraid you may freeze before you even get as far as ah come now mother i argued theyd guy me to death if i didnt sit in with the gang to night theyd chaff me because it was too cold for me to get out but im no pampered sissy you know and i want to see yes she retorted bitingly i know you want to go and bask in that elegant company our stoves just as good as the one down at that dirty old store continued my persistent and anxious parent and its certainly not very flattering to think that you leave us on a night like this to wholl be there anyway oh the usual five or six i suppose i answered as i adjusted the wick of my lantern hearing as i did the snarl and cut of the wind through the evergreens in the yard that black whiskered sphinx hammersly will he be there yes hell be there im pretty sure hm m she exclaimed her expression now carrying all the contempt for my judgment and taste she intended it should button your coat up good around your neck then if you must go to see your precious hammersly and the rest of them have you ever heard that man say anything yet does he speak at all jerry then her gentle mind not at all accustomed to hard thoughts or contemptuous remarks quickly changed funny thing about that fellow she mused hes got something on his mind dont you think so jerry y es yes i do and ive often wondered what it could be he certainlys a queer stick got to admit that always brooding good fellow all right and for a sphinx as you call him likable but i wonder what is eating him what do you suppose it could be jerry boy questioned mother following me to the door the woman of her now completely forgetting her recent criticisms and perhaps the rough night her son was about to step into do you suppose the poor chap has a a broken heart or something like that a girl somewhere who jilted him or maybe he loves someone he has no right to she finished excitedly the plates in her hand rattling maybe its worse than that i ventured praps ive no right to say it but praps and ive often thought it theres a killing he wants to forget and cant i heard my mothers sharp little\n"
       ]
      }
     ],
     "prompt_number": 11
    },
    {
     "cell_type": "code",
     "collapsed": false,
     "input": [],
     "language": "python",
     "metadata": {},
     "outputs": []
    },
    {
     "cell_type": "code",
     "collapsed": false,
     "input": [
      "def autochunk(samples, MAX_LEN=20):\n",
      "    \n",
      "    output = []\n",
      "    \n",
      "    prev_possibilites = []\n",
      "    for sample_num in np.arange(len(samples)):\n",
      "        \n",
      "        output_of_sample = network.probabilities(window_data(samples[sample_num]), 0.1)[0]\n",
      "    \n",
      "        # First sample is assumed to start with the first word (manual)\n",
      "        # Find the top five possible chunks\n",
      "        if sample_num == 0:\n",
      "            start_start = 0\n",
      "            start_stop = 1\n",
      "            \n",
      "            possibilities = []\n",
      "            for start_pos in np.arange(start_start, start_stop):\n",
      "                for end_pos in np.arange(start_pos, start_pos+MAX_LEN):\n",
      "                    #print start_pos, end_pos\n",
      "\n",
      "                    test = ' '.join(splot[start_pos:end_pos])\n",
      "                    \n",
      "                    cst = chunk.cost(output_of_sample, send_label_to_trainer(test, len(alphabet)))[0]\n",
      "                    \n",
      "                    if cst == np.inf: break\n",
      "                        \n",
      "                    costper = cst / float(len(send_label_to_trainer(test, len(alphabet))))\n",
      "\n",
      "                    possibilities.append((costper, test, start_pos, end_pos))\n",
      "            \n",
      "            prev_possibilites = sorted(possibilities, key=lambda x: x[0])[:3]\n",
      "            #print prev_possibilites\n",
      "            #print\n",
      "            \n",
      "        #elif sample_num == len(samples)-1:\n",
      "        #    output[-1][3]\n",
      "        #    output.append(' '.join(splot[output[-1][3]:]))\n",
      "            \n",
      "            \n",
      "        else:\n",
      "            \n",
      "            # Now we've a set of possible chunks, sorted by likelihood\n",
      "            # for each of these, lets see how the costs line up, without skipping or duplicating words\n",
      "            \n",
      "            next_possibilities = []\n",
      "            \n",
      "            for poss in prev_possibilites:\n",
      "                \n",
      "                start_start = poss[3]\n",
      "                start_stop = start_start+1\n",
      "                \n",
      "                tmp_possibilities = []\n",
      "                for start_pos in np.arange(start_start, start_stop):\n",
      "                    \n",
      "                    iterate = [len(splot)-1]\n",
      "                    if not len(samples)-1==sample_num: iterate=np.arange(start_pos, min(start_pos+MAX_LEN, len(splot)-1))\n",
      "                    \n",
      "                    for end_pos in iterate:\n",
      "                        #print start_pos, end_pos\n",
      "\n",
      "                        test = ' '.join(splot[start_pos:end_pos])\n",
      "                        \n",
      "                        cst = chunk.cost(output_of_sample, send_label_to_trainer(test, len(alphabet)))[0]\n",
      "                        \n",
      "                        if cst == np.inf: break\n",
      "                            \n",
      "                        costper = cst / float(len(send_label_to_trainer(test, len(alphabet))))\n",
      "\n",
      "                        tmp_possibilities.append((costper, test, start_pos, end_pos))\n",
      "                next_possibilities.append(sorted(tmp_possibilities, key=lambda x: x[0])[:3])\n",
      "            #print next_possibilities\n",
      "            #return prev_possibilites, next_possibilities\n",
      "            \n",
      "            # grab costs\n",
      "            cost_tree = []\n",
      "            for i in np.arange(len(prev_possibilites)):\n",
      "                \n",
      "                cost = prev_possibilites[i][0]\n",
      "                textx = prev_possibilites[i][1]\n",
      "                \n",
      "                costs = []\n",
      "                for j in next_possibilities[i]:\n",
      "                    costs.append((log_add_logs(j[0], cost), textx+' '+j[1]))\n",
      "                cost_tree.append(costs)\n",
      "            \n",
      "            # find the prev with the best average cost\n",
      "            # this will be the basis for the next\n",
      "            means = []\n",
      "            for line in cost_tree:\n",
      "                means.append(-np.mean([x[0] for x in line]))\n",
      "            output.append(prev_possibilites[np.argmax(means)])\n",
      "            prev_possibilites = next_possibilities[np.argmax(means)]\n",
      "            print output[-1]\n",
      "            \n",
      "    remaining_text = ' '.join(splot[output[-1][3]:])\n",
      "    last_cost = chunk.cost(network.probabilities(window_data(samples[sample_num]), 0.1)[0], send_label_to_trainer(remaining_text, len(alphabet)))[0]\n",
      "    last_costper = last_cost / float(len(send_label_to_trainer(remaining_text, len(alphabet))))\n",
      "    output.append((last_costper, remaining_text, output[-1][3], len(splot)-1))\n",
      "    print output[-1]\n",
      "    \n",
      "    return output"
     ],
     "language": "python",
     "metadata": {},
     "outputs": [],
     "prompt_number": 49
    },
    {
     "cell_type": "code",
     "collapsed": false,
     "input": [
      "splot = text.split(' ')\n",
      "best = autochunk(samples)"
     ],
     "language": "python",
     "metadata": {},
     "outputs": [
      {
       "output_type": "stream",
       "stream": "stdout",
       "text": [
        "(0.89014772667947972, 'as jerrys eyes fell on the creatures head he shuddered', 0, 10)\n",
        "(0.79591621359136144, 'for the face was nothing but bone with dull brown skin stretched taut over it', 10, 25)"
       ]
      },
      {
       "output_type": "stream",
       "stream": "stdout",
       "text": [
        "\n",
        "(1.1971645939861004, 'a skeleton', 25, 27)"
       ]
      },
      {
       "output_type": "stream",
       "stream": "stdout",
       "text": [
        "\n",
        "(0.89712932119470035, 'that was alive', 27, 30)"
       ]
      },
      {
       "output_type": "stream",
       "stream": "stdout",
       "text": [
        "\n",
        "(1.0024991255772175, 'it was a wicked night', 30, 35)"
       ]
      },
      {
       "output_type": "stream",
       "stream": "stdout",
       "text": [
        "\n",
        "(0.95684338316698514, 'the night i met the man who had died', 35, 44)"
       ]
      },
      {
       "output_type": "stream",
       "stream": "stdout",
       "text": [
        "\n",
        "(0.76709478067886394, 'a bitter heart numbing night of weird', 44, 51)"
       ]
      },
      {
       "output_type": "stream",
       "stream": "stdout",
       "text": [
        "\n",
        "(0.89737138764569391, 'shrieking wind and', 51, 54)"
       ]
      },
      {
       "output_type": "stream",
       "stream": "stdout",
       "text": [
        "\n",
        "(1.1202724446684471, 'flying snow', 54, 56)"
       ]
      },
      {
       "output_type": "stream",
       "stream": "stdout",
       "text": [
        "\n",
        "(0.94834624541404955, 'a few black hours', 56, 60)"
       ]
      },
      {
       "output_type": "stream",
       "stream": "stdout",
       "text": [
        "\n",
        "(1.0970046400718809, 'i will never forget', 60, 64)"
       ]
      },
      {
       "output_type": "stream",
       "stream": "stdout",
       "text": [
        "\n",
        "(0.9501818255872565, 'well jerry lad', 64, 67)"
       ]
      },
      {
       "output_type": "stream",
       "stream": "stdout",
       "text": [
        "\n",
        "(0.93470215774526411, 'my mother said to me as i pushed back from the table', 67, 79)"
       ]
      },
      {
       "output_type": "stream",
       "stream": "stdout",
       "text": [
        "\n",
        "(1.0455437889986274, 'and started for my sheepskin coat and the lantern in the corner of the room', 79, 94)"
       ]
      },
      {
       "output_type": "stream",
       "stream": "stdout",
       "text": [
        "\n",
        "(1.1770733843488479, 'surely youre not going out', 94, 99)"
       ]
      },
      {
       "output_type": "stream",
       "stream": "stdout",
       "text": [
        "\n",
        "(1.1589324548107329, 'a night like this', 99, 103)"
       ]
      },
      {
       "output_type": "stream",
       "stream": "stdout",
       "text": [
        "\n",
        "(1.1363743190537756, 'goodness gracious jerry its not fit cant', 103, 110)"
       ]
      },
      {
       "output_type": "stream",
       "stream": "stdout",
       "text": [
        "\n",
        "(1.421372722769888, 'help it mother', 110, 113)"
       ]
      },
      {
       "output_type": "stream",
       "stream": "stdout",
       "text": [
        "\n",
        "(0.80515087904397808, 'i replied got to go', 113, 118)"
       ]
      },
      {
       "output_type": "stream",
       "stream": "stdout",
       "text": [
        "\n",
        "(1.3982349951645427, 'youve never seen me miss a saturday night yet have you now', 118, 130)"
       ]
      },
      {
       "output_type": "stream",
       "stream": "stdout",
       "text": [
        "\n",
        "(0.88392385199406864, 'no but then ive never seen a night like this for years either', 130, 143)"
       ]
      },
      {
       "output_type": "stream",
       "stream": "stdout",
       "text": [
        "\n",
        "(1.0784537644529246, 'jerry im really afraid you may freeze before you even get as far as', 143, 157)"
       ]
      },
      {
       "output_type": "stream",
       "stream": "stdout",
       "text": [
        "\n",
        "(0.8634477874352271, 'ah come now mother i argued', 157, 163)"
       ]
      },
      {
       "output_type": "stream",
       "stream": "stdout",
       "text": [
        "\n",
        "(1.0267544532524786, 'theyd guy me to death if i didnt sit in with the gang to night', 163, 178)"
       ]
      },
      {
       "output_type": "stream",
       "stream": "stdout",
       "text": [
        "\n",
        "(1.3067030072090133, 'theyd chaff me because it was too cold for me to get out', 178, 191)"
       ]
      },
      {
       "output_type": "stream",
       "stream": "stdout",
       "text": [
        "\n",
        "(1.1852771191334261, 'but im no pampered sissy you know and i want to', 191, 202)"
       ]
      },
      {
       "output_type": "stream",
       "stream": "stdout",
       "text": [
        "\n",
        "(1.4263649836736343, 'see', 202, 203)"
       ]
      },
      {
       "output_type": "stream",
       "stream": "stdout",
       "text": [
        "\n",
        "(1.8914309460287486, 'yes', 203, 204)"
       ]
      },
      {
       "output_type": "stream",
       "stream": "stdout",
       "text": [
        "\n",
        "(0.74829121901364459, 'she retorted bitingly', 204, 207)"
       ]
      },
      {
       "output_type": "stream",
       "stream": "stdout",
       "text": [
        "\n",
        "(0.85437633976608707, 'i know', 207, 209)"
       ]
      },
      {
       "output_type": "stream",
       "stream": "stdout",
       "text": [
        "\n",
        "(1.2300801886099753, 'you want to go and bask in that elegant company', 209, 219)"
       ]
      },
      {
       "output_type": "stream",
       "stream": "stdout",
       "text": [
        "\n",
        "(0.99489143598855834, 'our stoves just as good as the one down at that dirty old store', 219, 233)"
       ]
      },
      {
       "output_type": "stream",
       "stream": "stdout",
       "text": [
        "\n",
        "(1.0855486759268833, 'continued my persistent and anxious parent', 233, 239)"
       ]
      },
      {
       "output_type": "stream",
       "stream": "stdout",
       "text": [
        "\n",
        "(1.0762741007524528, 'and its certainly not very flattering to think that you leave us on a night like this to', 239, 257)"
       ]
      },
      {
       "output_type": "stream",
       "stream": "stdout",
       "text": [
        "\n",
        "(0.87250357315138161, 'wholl be there anyway', 257, 261)"
       ]
      },
      {
       "output_type": "stream",
       "stream": "stdout",
       "text": [
        "\n",
        "(1.1991582514795405, 'oh the usual five or six i suppose', 261, 269)"
       ]
      },
      {
       "output_type": "stream",
       "stream": "stdout",
       "text": [
        "\n",
        "(1.3745318708872056, 'i answered as i adjusted the wick of my lantern hearing', 269, 280)\n",
        "(0.82510583858585385, '', 280, 280)"
       ]
      },
      {
       "output_type": "stream",
       "stream": "stdout",
       "text": [
        "\n",
        "(0.99680234257659117, 'as i did the snarl and cut of the wind', 280, 290)"
       ]
      },
      {
       "output_type": "stream",
       "stream": "stdout",
       "text": [
        "\n",
        "(0.92899553269511581, 'through the evergreens in the yard', 290, 296)"
       ]
      },
      {
       "output_type": "stream",
       "stream": "stdout",
       "text": [
        "\n",
        "(1.0432316313507306, 'that black whiskered sphinx', 296, 300)"
       ]
      },
      {
       "output_type": "stream",
       "stream": "stdout",
       "text": [
        "\n",
        "(1.0249552279512464, 'hammersly will he be there', 300, 305)"
       ]
      },
      {
       "output_type": "stream",
       "stream": "stdout",
       "text": [
        "\n",
        "(1.1501970488536428, 'yes hell be there im pretty', 305, 311)"
       ]
      },
      {
       "output_type": "stream",
       "stream": "stdout",
       "text": [
        "\n",
        "(1.3274858177532403, 'sure', 311, 312)"
       ]
      },
      {
       "output_type": "stream",
       "stream": "stdout",
       "text": [
        "\n",
        "(1.936474738162929, 'hm m she exclaimed', 312, 316)"
       ]
      },
      {
       "output_type": "stream",
       "stream": "stdout",
       "text": [
        "\n",
        "(1.1538224745936976, 'her expression now carrying all the contempt for my judgment and taste', 316, 328)"
       ]
      },
      {
       "output_type": "stream",
       "stream": "stdout",
       "text": [
        "\n",
        "(1.0184537723406772, 'she intended it should', 328, 332)"
       ]
      },
      {
       "output_type": "stream",
       "stream": "stdout",
       "text": [
        "\n",
        "(1.1046337994709987, 'button your coat up good around your neck then if you must go', 332, 345)"
       ]
      },
      {
       "output_type": "stream",
       "stream": "stdout",
       "text": [
        "\n",
        "(1.0925570061105518, 'to see your precious hammersly', 345, 350)"
       ]
      },
      {
       "output_type": "stream",
       "stream": "stdout",
       "text": [
        "\n",
        "(0.84047511197537594, 'and the rest of', 350, 354)"
       ]
      },
      {
       "output_type": "stream",
       "stream": "stdout",
       "text": [
        "\n",
        "(1.117968187705658, 'them have you ever heard that man say anything yet does he speak at all jerry', 354, 370)"
       ]
      },
      {
       "output_type": "stream",
       "stream": "stdout",
       "text": [
        "\n",
        "(1.1034511534326663, 'then her gentle mind not at all accustomed to hard thoughts or contemptuous remarks quickly', 370, 385)"
       ]
      },
      {
       "output_type": "stream",
       "stream": "stdout",
       "text": [
        "\n",
        "(0.28811253233333761, '', 385, 385)"
       ]
      },
      {
       "output_type": "stream",
       "stream": "stdout",
       "text": [
        "\n",
        "(1.3292350076936061, 'changed funny thing about that fellow she mused', 385, 393)"
       ]
      },
      {
       "output_type": "stream",
       "stream": "stdout",
       "text": [
        "\n",
        "(1.0501527462896028, 'hes got something on his mind', 393, 399)"
       ]
      },
      {
       "output_type": "stream",
       "stream": "stdout",
       "text": [
        "\n",
        "(1.2437294223112849, 'dont you think so jerry', 399, 404)"
       ]
      },
      {
       "output_type": "stream",
       "stream": "stdout",
       "text": [
        "\n",
        "(1.1348236333083024, 'y es', 404, 406)"
       ]
      },
      {
       "output_type": "stream",
       "stream": "stdout",
       "text": [
        "\n",
        "(1.4993611514550227, 'yes i do', 406, 409)"
       ]
      },
      {
       "output_type": "stream",
       "stream": "stdout",
       "text": [
        "\n",
        "(1.0908803701071448, 'and ive often wondered what it could be', 409, 417)"
       ]
      },
      {
       "output_type": "stream",
       "stream": "stdout",
       "text": [
        "\n",
        "(1.2393424470453174, 'he certainlys a queer stick got to admit that', 417, 426)"
       ]
      },
      {
       "output_type": "stream",
       "stream": "stdout",
       "text": [
        "\n",
        "(1.2615191255346294, 'always brooding', 426, 428)"
       ]
      },
      {
       "output_type": "stream",
       "stream": "stdout",
       "text": [
        "\n",
        "(1.4526387498650091, 'good fellow all right', 428, 432)"
       ]
      },
      {
       "output_type": "stream",
       "stream": "stdout",
       "text": [
        "\n",
        "(1.0709346116611831, 'and for a sphinx as you call him likable', 432, 441)"
       ]
      },
      {
       "output_type": "stream",
       "stream": "stdout",
       "text": [
        "\n",
        "(1.1455915732640551, 'but i wonder what is eating him', 441, 448)"
       ]
      },
      {
       "output_type": "stream",
       "stream": "stdout",
       "text": [
        "\n",
        "(1.4203778900508985, 'what do you suppose it could be jerry boy', 448, 457)"
       ]
      },
      {
       "output_type": "stream",
       "stream": "stdout",
       "text": [
        "\n",
        "(0.99647916847828122, 'questioned mother following me to the door', 457, 464)"
       ]
      },
      {
       "output_type": "stream",
       "stream": "stdout",
       "text": [
        "\n",
        "(1.1812386644062771, 'the woman of her now completely forgetting her recent criticisms', 464, 474)"
       ]
      },
      {
       "output_type": "stream",
       "stream": "stdout",
       "text": [
        "\n",
        "(1.3921528721148377, 'and perhaps', 474, 476)"
       ]
      },
      {
       "output_type": "stream",
       "stream": "stdout",
       "text": [
        "\n",
        "(1.2302327988245516, 'the rough night her son was about to step into do', 476, 487)"
       ]
      },
      {
       "output_type": "stream",
       "stream": "stdout",
       "text": [
        "\n",
        "(0.66728682056757516, 'you suppose the poor chap has a', 487, 494)"
       ]
      },
      {
       "output_type": "stream",
       "stream": "stdout",
       "text": [
        "\n",
        "(1.1603929065081851, 'a broken heart or something like that a girl somewhere who jilted him', 494, 507)"
       ]
      },
      {
       "output_type": "stream",
       "stream": "stdout",
       "text": [
        "\n",
        "(1.192638202102728, 'or maybe he loves someone he has no right to', 507, 517)"
       ]
      },
      {
       "output_type": "stream",
       "stream": "stdout",
       "text": [
        "\n",
        "(1.0727108043735101, 'she finished excitedly', 517, 520)"
       ]
      },
      {
       "output_type": "stream",
       "stream": "stdout",
       "text": [
        "\n",
        "(1.114803953242723, 'the plates in her hand rattling', 520, 526)"
       ]
      },
      {
       "output_type": "stream",
       "stream": "stdout",
       "text": [
        "\n",
        "(1.0480818879185949, 'maybe its worse than that i ventured', 526, 533)"
       ]
      },
      {
       "output_type": "stream",
       "stream": "stdout",
       "text": [
        "\n",
        "(1.0673022366586471, 'praps', 533, 534)"
       ]
      },
      {
       "output_type": "stream",
       "stream": "stdout",
       "text": [
        "\n",
        "(1.5206571697179423, 'ive no right to say it but praps', 534, 542)"
       ]
      },
      {
       "output_type": "stream",
       "stream": "stdout",
       "text": [
        "\n",
        "(1.1010768318593975, 'and ive often thought it', 542, 547)"
       ]
      },
      {
       "output_type": "stream",
       "stream": "stdout",
       "text": [
        "\n",
        "(1.0177306235922683, 'theres a killing he wants to forget and cant i', 547, 557)"
       ]
      },
      {
       "output_type": "stream",
       "stream": "stdout",
       "text": [
        "\n",
        "(1.4302610266534277, 'heard my mothers sharp little', 557, 561)"
       ]
      },
      {
       "output_type": "stream",
       "stream": "stdout",
       "text": [
        "\n"
       ]
      }
     ],
     "prompt_number": 50
    },
    {
     "cell_type": "code",
     "collapsed": false,
     "input": [
      "for i in np.arange(len(best)):\n",
      "    if best[i][0] <= 1.2:\n",
      "        print files[i][-6:], best[i]\n",
      "    else: print \"======\", best[i]"
     ],
     "language": "python",
     "metadata": {},
     "outputs": [
      {
       "output_type": "stream",
       "stream": "stdout",
       "text": [
        "12.wav (0.89014772667947972, 'as jerrys eyes fell on the creatures head he shuddered', 0, 10)\n",
        "13.wav (0.79591621359136144, 'for the face was nothing but bone with dull brown skin stretched taut over it', 10, 25)\n",
        "14.wav (1.1971645939861004, 'a skeleton', 25, 27)\n",
        "15.wav (0.89712932119470035, 'that was alive', 27, 30)\n",
        "16.wav (1.0024991255772175, 'it was a wicked night', 30, 35)\n",
        "17.wav (0.95684338316698514, 'the night i met the man who had died', 35, 44)\n",
        "18.wav (0.76709478067886394, 'a bitter heart numbing night of weird', 44, 51)\n",
        "19.wav (0.89737138764569391, 'shrieking wind and', 51, 54)\n",
        "20.wav (1.1202724446684471, 'flying snow', 54, 56)\n",
        "21.wav (0.94834624541404955, 'a few black hours', 56, 60)\n",
        "22.wav (1.0970046400718809, 'i will never forget', 60, 64)\n",
        "23.wav (0.9501818255872565, 'well jerry lad', 64, 67)\n",
        "24.wav (0.93470215774526411, 'my mother said to me as i pushed back from the table', 67, 79)\n",
        "25.wav (1.0455437889986274, 'and started for my sheepskin coat and the lantern in the corner of the room', 79, 94)\n",
        "26.wav (1.1770733843488479, 'surely youre not going out', 94, 99)\n",
        "27.wav (1.1589324548107329, 'a night like this', 99, 103)\n",
        "28.wav (1.1363743190537756, 'goodness gracious jerry its not fit cant', 103, 110)\n",
        "====== (1.421372722769888, 'help it mother', 110, 113)\n",
        "30.wav (0.80515087904397808, 'i replied got to go', 113, 118)\n",
        "====== (1.3982349951645427, 'youve never seen me miss a saturday night yet have you now', 118, 130)\n",
        "32.wav (0.88392385199406864, 'no but then ive never seen a night like this for years either', 130, 143)\n",
        "33.wav (1.0784537644529246, 'jerry im really afraid you may freeze before you even get as far as', 143, 157)\n",
        "34.wav (0.8634477874352271, 'ah come now mother i argued', 157, 163)\n",
        "35.wav (1.0267544532524786, 'theyd guy me to death if i didnt sit in with the gang to night', 163, 178)\n",
        "====== (1.3067030072090133, 'theyd chaff me because it was too cold for me to get out', 178, 191)\n",
        "37.wav (1.1852771191334261, 'but im no pampered sissy you know and i want to', 191, 202)\n",
        "====== (1.4263649836736343, 'see', 202, 203)\n",
        "====== (1.8914309460287486, 'yes', 203, 204)\n",
        "40.wav (0.74829121901364459, 'she retorted bitingly', 204, 207)\n",
        "41.wav (0.85437633976608707, 'i know', 207, 209)\n",
        "====== (1.2300801886099753, 'you want to go and bask in that elegant company', 209, 219)\n",
        "43.wav (0.99489143598855834, 'our stoves just as good as the one down at that dirty old store', 219, 233)\n",
        "44.wav (1.0855486759268833, 'continued my persistent and anxious parent', 233, 239)\n",
        "45.wav (1.0762741007524528, 'and its certainly not very flattering to think that you leave us on a night like this to', 239, 257)\n",
        "46.wav (0.87250357315138161, 'wholl be there anyway', 257, 261)\n",
        "47.wav (1.1991582514795405, 'oh the usual five or six i suppose', 261, 269)\n",
        "====== (1.3745318708872056, 'i answered as i adjusted the wick of my lantern hearing', 269, 280)\n",
        "49.wav (0.82510583858585385, '', 280, 280)\n",
        "50.wav (0.99680234257659117, 'as i did the snarl and cut of the wind', 280, 290)\n",
        "51.wav (0.92899553269511581, 'through the evergreens in the yard', 290, 296)\n",
        "52.wav (1.0432316313507306, 'that black whiskered sphinx', 296, 300)\n",
        "53.wav (1.0249552279512464, 'hammersly will he be there', 300, 305)\n",
        "54.wav (1.1501970488536428, 'yes hell be there im pretty', 305, 311)\n",
        "====== (1.3274858177532403, 'sure', 311, 312)\n",
        "====== (1.936474738162929, 'hm m she exclaimed', 312, 316)\n",
        "57.wav (1.1538224745936976, 'her expression now carrying all the contempt for my judgment and taste', 316, 328)\n",
        "58.wav (1.0184537723406772, 'she intended it should', 328, 332)\n",
        "59.wav (1.1046337994709987, 'button your coat up good around your neck then if you must go', 332, 345)\n",
        "60.wav (1.0925570061105518, 'to see your precious hammersly', 345, 350)\n",
        "61.wav (0.84047511197537594, 'and the rest of', 350, 354)\n",
        "62.wav (1.117968187705658, 'them have you ever heard that man say anything yet does he speak at all jerry', 354, 370)\n",
        "63.wav (1.1034511534326663, 'then her gentle mind not at all accustomed to hard thoughts or contemptuous remarks quickly', 370, 385)\n",
        "64.wav (0.28811253233333761, '', 385, 385)\n",
        "====== (1.3292350076936061, 'changed funny thing about that fellow she mused', 385, 393)\n",
        "66.wav (1.0501527462896028, 'hes got something on his mind', 393, 399)\n",
        "====== (1.2437294223112849, 'dont you think so jerry', 399, 404)\n",
        "68.wav (1.1348236333083024, 'y es', 404, 406)\n",
        "====== (1.4993611514550227, 'yes i do', 406, 409)\n",
        "70.wav (1.0908803701071448, 'and ive often wondered what it could be', 409, 417)\n",
        "====== (1.2393424470453174, 'he certainlys a queer stick got to admit that', 417, 426)\n",
        "====== (1.2615191255346294, 'always brooding', 426, 428)\n",
        "====== (1.4526387498650091, 'good fellow all right', 428, 432)\n",
        "74.wav (1.0709346116611831, 'and for a sphinx as you call him likable', 432, 441)\n",
        "75.wav (1.1455915732640551, 'but i wonder what is eating him', 441, 448)\n",
        "====== (1.4203778900508985, 'what do you suppose it could be jerry boy', 448, 457)\n",
        "77.wav (0.99647916847828122, 'questioned mother following me to the door', 457, 464)\n",
        "78.wav (1.1812386644062771, 'the woman of her now completely forgetting her recent criticisms', 464, 474)\n",
        "====== (1.3921528721148377, 'and perhaps', 474, 476)\n",
        "====== (1.2302327988245516, 'the rough night her son was about to step into do', 476, 487)\n",
        "81.wav (0.66728682056757516, 'you suppose the poor chap has a', 487, 494)\n",
        "82.wav (1.1603929065081851, 'a broken heart or something like that a girl somewhere who jilted him', 494, 507)\n",
        "83.wav (1.192638202102728, 'or maybe he loves someone he has no right to', 507, 517)\n",
        "84.wav (1.0727108043735101, 'she finished excitedly', 517, 520)\n",
        "85.wav (1.114803953242723, 'the plates in her hand rattling', 520, 526)\n",
        "86.wav (1.0480818879185949, 'maybe its worse than that i ventured', 526, 533)\n",
        "87.wav (1.0673022366586471, 'praps', 533, 534)\n",
        "====== (1.5206571697179423, 'ive no right to say it but praps', 534, 542)\n",
        "89.wav (1.1010768318593975, 'and ive often thought it', 542, 547)\n",
        "90.wav (1.0177306235922683, 'theres a killing he wants to forget and cant i', 547, 557)\n",
        "====== (1.4302610266534277, 'heard my mothers sharp little', 557, 561)\n"
       ]
      }
     ],
     "prompt_number": 51
    },
    {
     "cell_type": "code",
     "collapsed": false,
     "input": [
      "def generate_spaces(num):\n",
      "    return make_l_prime(str_to_seq(' ')*num, 29)\n",
      "\n",
      "generate_spaces(0)"
     ],
     "language": "python",
     "metadata": {},
     "outputs": [
      {
       "metadata": {},
       "output_type": "pyout",
       "prompt_number": 107,
       "text": [
        "[29]"
       ]
      }
     ],
     "prompt_number": 107
    },
    {
     "cell_type": "code",
     "collapsed": false,
     "input": [
      "for sample_num in np.arange(len(samples)):\n",
      "    costs = []\n",
      "    for i in np.arange(0, 30):\n",
      "        pred, cst = network.validator(window_data(samples[sample_num]), generate_spaces(i), 0.0)\n",
      "        costs.append(-cst)\n",
      "    \n",
      "    print sample_num, 'words:', np.argmax(costs)"
     ],
     "language": "python",
     "metadata": {},
     "outputs": [
      {
       "output_type": "stream",
       "stream": "stdout",
       "text": [
        "0 words: 12\n",
        "1"
       ]
      },
      {
       "output_type": "stream",
       "stream": "stdout",
       "text": [
        " words: 20\n",
        "2"
       ]
      },
      {
       "output_type": "stream",
       "stream": "stdout",
       "text": [
        " words: 2\n",
        "3"
       ]
      },
      {
       "output_type": "stream",
       "stream": "stdout",
       "text": [
        " words: 5\n",
        "4"
       ]
      },
      {
       "output_type": "stream",
       "stream": "stdout",
       "text": [
        " words: 6\n",
        "5"
       ]
      },
      {
       "output_type": "stream",
       "stream": "stdout",
       "text": [
        " words: 10\n",
        "6"
       ]
      },
      {
       "output_type": "stream",
       "stream": "stdout",
       "text": [
        " words: 10\n",
        "7"
       ]
      },
      {
       "output_type": "stream",
       "stream": "stdout",
       "text": [
        " words: 2\n",
        "8"
       ]
      },
      {
       "output_type": "stream",
       "stream": "stdout",
       "text": [
        " words: 1\n",
        "9"
       ]
      },
      {
       "output_type": "stream",
       "stream": "stdout",
       "text": [
        " words: 5\n",
        "10"
       ]
      },
      {
       "output_type": "stream",
       "stream": "stdout",
       "text": [
        " words: 6\n",
        "11"
       ]
      },
      {
       "output_type": "stream",
       "stream": "stdout",
       "text": [
        " words: 3\n",
        "12"
       ]
      },
      {
       "output_type": "stream",
       "stream": "stdout",
       "text": [
        " words: 15\n",
        "13"
       ]
      },
      {
       "output_type": "stream",
       "stream": "stdout",
       "text": [
        " words: 23\n",
        "14"
       ]
      },
      {
       "output_type": "stream",
       "stream": "stdout",
       "text": [
        " words: 5\n",
        "15"
       ]
      },
      {
       "output_type": "stream",
       "stream": "stdout",
       "text": [
        " words: 5\n",
        "16"
       ]
      },
      {
       "output_type": "stream",
       "stream": "stdout",
       "text": [
        " words: 9\n"
       ]
      }
     ],
     "prompt_number": 120
    },
    {
     "cell_type": "code",
     "collapsed": false,
     "input": [
      "print len(splot)\n",
      "print len(samples)"
     ],
     "language": "python",
     "metadata": {},
     "outputs": [
      {
       "output_type": "stream",
       "stream": "stdout",
       "text": [
        "109\n",
        "17\n"
       ]
      }
     ],
     "prompt_number": 122
    },
    {
     "cell_type": "code",
     "collapsed": false,
     "input": [
      "# there are 17 examples\n",
      "# The wordcount needs to be 109\n",
      "# Find all permutations that add up to 109 of 17 elements\n"
     ],
     "language": "python",
     "metadata": {},
     "outputs": []
    },
    {
     "cell_type": "code",
     "collapsed": false,
     "input": [],
     "language": "python",
     "metadata": {},
     "outputs": []
    },
    {
     "cell_type": "code",
     "collapsed": false,
     "input": [],
     "language": "python",
     "metadata": {},
     "outputs": []
    },
    {
     "cell_type": "code",
     "collapsed": false,
     "input": [],
     "language": "python",
     "metadata": {},
     "outputs": []
    },
    {
     "cell_type": "code",
     "collapsed": false,
     "input": [],
     "language": "python",
     "metadata": {},
     "outputs": []
    },
    {
     "cell_type": "code",
     "collapsed": false,
     "input": [
      "possible_chunks = autochunk(samples[:10])"
     ],
     "language": "python",
     "metadata": {},
     "outputs": [
      {
       "output_type": "stream",
       "stream": "stdout",
       "text": [
        "[(array(99.2314923339623), 'as jerrys eyes fell on the creatures head he shuddered', 0, 10), (array(99.43225649142232), 'as jerrys eyes fell on the creatures head', 0, 8), (array(111.03744748012468), 'as jerrys eyes fell on the creatures', 0, 7), (array(115.80119806820629), 'as jerrys eyes fell on the creatures head he', 0, 9), (array(122.83789833212444), 'as jerrys eyes fell on the', 0, 6)]\n",
        "\n",
        "[[(array(125.5813352369368), 'for the face was nothing but bone with dull brown skin stretched taut over', 10, 24), (array(130.4691367994217), 'for the face was nothing but bone with dull brown skin stretched taut over it', 10, 25), (array(134.1784436366025), 'for the face was nothing but bone with dull brown skin stretched taut', 10, 23), (array(149.06315471880458), 'for the face was nothing but bone with dull brown skin stretched', 10, 22), (array(155.25080135973155), 'for the face was nothing but bone with dull brown skin stretched taut over it a', 10, 26)], [(array(212.77951359660972), 'he shuddered for', 8, 11), (array(215.47084968210433), 'he shuddered for the face', 8, 13), (array(219.32297839853962), 'he shuddered for the', 8, 12), (array(224.35213280585828), 'he shuddered for the face was', 8, 14), (array(228.37463527617732), 'he shuddered', 8, 10)], [(array(209.858423230406), 'head he shuddered for', 7, 11), (array(218.03726321605365), 'head he shuddered for the', 7, 12), (array(218.1316172580858), 'head he shuddered for the face', 7, 13), (array(218.89059646492962), 'head he shuddered', 7, 10), (array(227.01542447966816), 'head he shuddered for the face was', 7, 14)], [(array(228.30405720767436), 'shuddered for the face', 9, 13), (array(229.55246955703092), 'shuddered for', 9, 11), (array(232.3688913910514), 'shuddered for the', 9, 12), (array(237.1741708751692), 'shuddered for the face was', 9, 14), (array(243.5660645177343), 'shuddered for the face was nothing but', 9, 16)], [(array(209.54953399747927), 'creatures head he shuddered for', 6, 11), (array(217.74423875175975), 'creatures head he shuddered for the', 6, 12), (array(218.5530261560414), 'creatures head he shuddered', 6, 10), (array(223.7971226164646), 'creatures head he shuddered for the face', 6, 13), (array(235.403051662272), 'creatures head he shuddered for the face was', 6, 14)]]"
       ]
      },
      {
       "output_type": "stream",
       "stream": "stdout",
       "text": [
        "\n"
       ]
      }
     ],
     "prompt_number": 83
    },
    {
     "cell_type": "code",
     "collapsed": false,
     "input": [
      "# check costs\n",
      "prev_possibilites = possible_chunks[0]\n",
      "next_possibilities = possible_chunks[1]\n",
      "cost_tree = []\n",
      "for i in np.arange(len(prev_possibilites)):\n",
      "\n",
      "    cost = prev_possibilites[i][0]\n",
      "    textx = prev_possibilites[i][1]\n",
      "\n",
      "    costs = []\n",
      "    for j in next_possibilities[i]:\n",
      "        costs.append((j[0]*cost, textx+' '+j[1]))\n",
      "    cost_tree.append(costs)\n",
      "\n",
      "means = []\n",
      "for line in cost_tree:\n",
      "    means.append(-np.mean([x[0] for x in line]))\n",
      "    print means[-1]\n",
      "print prev_possibilites[np.argmax(means)]\n",
      "print next_possibilities[np.argmax(means)]"
     ],
     "language": "python",
     "metadata": {},
     "outputs": [
      {
       "output_type": "stream",
       "stream": "stdout",
       "text": [
        "-13784.1051308\n",
        "-21881.0645462\n",
        "-24249.0978375\n",
        "-27119.8451155\n",
        "-27148.3295488\n",
        "(array(99.2314923339623), 'as jerrys eyes fell on the creatures head he shuddered', 0, 10)\n",
        "[(array(125.5813352369368), 'for the face was nothing but bone with dull brown skin stretched taut over', 10, 24), (array(130.4691367994217), 'for the face was nothing but bone with dull brown skin stretched taut over it', 10, 25), (array(134.1784436366025), 'for the face was nothing but bone with dull brown skin stretched taut', 10, 23), (array(149.06315471880458), 'for the face was nothing but bone with dull brown skin stretched', 10, 22), (array(155.25080135973155), 'for the face was nothing but bone with dull brown skin stretched taut over it a', 10, 26)]\n"
       ]
      }
     ],
     "prompt_number": 94
    },
    {
     "cell_type": "code",
     "collapsed": false,
     "input": [],
     "language": "python",
     "metadata": {},
     "outputs": []
    },
    {
     "cell_type": "code",
     "collapsed": false,
     "input": [],
     "language": "python",
     "metadata": {},
     "outputs": []
    },
    {
     "cell_type": "code",
     "collapsed": false,
     "input": [],
     "language": "python",
     "metadata": {},
     "outputs": []
    },
    {
     "cell_type": "code",
     "collapsed": false,
     "input": [],
     "language": "python",
     "metadata": {},
     "outputs": []
    },
    {
     "cell_type": "code",
     "collapsed": false,
     "input": [
      "for sample_num in np.arange(len(possible_chunks)):\n",
      "    for poss in np.arange(len(possible_chunks[sample_num])):\n",
      "        np.exp(possible_chunks[sample_num][poss])\n",
      "        "
     ],
     "language": "python",
     "metadata": {},
     "outputs": []
    },
    {
     "cell_type": "code",
     "collapsed": false,
     "input": [],
     "language": "python",
     "metadata": {},
     "outputs": []
    },
    {
     "cell_type": "code",
     "collapsed": false,
     "input": [],
     "language": "python",
     "metadata": {},
     "outputs": []
    },
    {
     "cell_type": "code",
     "collapsed": false,
     "input": [],
     "language": "python",
     "metadata": {},
     "outputs": []
    },
    {
     "cell_type": "code",
     "collapsed": false,
     "input": [
      "for s in np.arange(samples)[:2]:\n",
      "\n",
      "    possibilities = []\n",
      "\n",
      "    for j in np.arange(0, 10):\n",
      "        for i in np.arange(j, 15+j):\n",
      "            test = ' '.join(splot[j:i])\n",
      "\n",
      "            pred, cst = network.validator(window_data(samples[s]), send_label_to_trainer(test, len(alphabet)), 0.0)\n",
      "\n",
      "            possibilities.append((cst, test, j, i))\n",
      "\n",
      "            print i, test, '||\\t', cst"
     ],
     "language": "python",
     "metadata": {},
     "outputs": [
      {
       "output_type": "stream",
       "stream": "stdout",
       "text": [
        "0  ||\t167.727964161\n",
        "1"
       ]
      },
      {
       "output_type": "stream",
       "stream": "stdout",
       "text": [
        " as ||\t154.229855266\n",
        "2"
       ]
      },
      {
       "output_type": "stream",
       "stream": "stdout",
       "text": [
        " as jerrys ||\t141.105091679\n",
        "3"
       ]
      },
      {
       "output_type": "stream",
       "stream": "stdout",
       "text": [
        " as jerrys eyes ||\t131.340349426\n",
        "4"
       ]
      },
      {
       "output_type": "stream",
       "stream": "stdout",
       "text": [
        " as jerrys eyes fell ||\t126.58002347\n",
        "5"
       ]
      },
      {
       "output_type": "stream",
       "stream": "stdout",
       "text": [
        " as jerrys eyes fell on ||\t138.419683928\n",
        "6"
       ]
      },
      {
       "output_type": "stream",
       "stream": "stdout",
       "text": [
        " as jerrys eyes fell on the ||\t122.83788029\n",
        "7"
       ]
      },
      {
       "output_type": "stream",
       "stream": "stdout",
       "text": [
        " as jerrys eyes fell on the creatures ||\t111.03744748\n",
        "8"
       ]
      },
      {
       "output_type": "stream",
       "stream": "stdout",
       "text": [
        " as jerrys eyes fell on the creatures head ||\t99.4322358037\n",
        "9"
       ]
      },
      {
       "output_type": "stream",
       "stream": "stdout",
       "text": [
        " as jerrys eyes fell on the creatures head he ||\t115.801174609\n",
        "10"
       ]
      },
      {
       "output_type": "stream",
       "stream": "stdout",
       "text": [
        " as jerrys eyes fell on the creatures head he shuddered ||\t99.231492334\n",
        "11"
       ]
      },
      {
       "output_type": "stream",
       "stream": "stdout",
       "text": [
        " as jerrys eyes fell on the creatures head he shuddered for ||\t147.687796312\n",
        "12"
       ]
      },
      {
       "output_type": "stream",
       "stream": "stdout",
       "text": [
        " as jerrys eyes fell on the creatures head he shuddered for the ||\t185.680911113\n",
        "13"
       ]
      },
      {
       "output_type": "stream",
       "stream": "stdout",
       "text": [
        " as jerrys eyes fell on the creatures head he shuddered for the face ||\t228.679701107\n",
        "14"
       ]
      },
      {
       "output_type": "stream",
       "stream": "stdout",
       "text": [
        " as jerrys eyes fell on the creatures head he shuddered for the face was ||\t273.852898851\n",
        "1"
       ]
      },
      {
       "output_type": "stream",
       "stream": "stdout",
       "text": [
        "  ||\t167.727964161\n",
        "2"
       ]
      },
      {
       "output_type": "stream",
       "stream": "stdout",
       "text": [
        " jerrys ||\t142.745392198\n",
        "3"
       ]
      },
      {
       "output_type": "stream",
       "stream": "stdout",
       "text": [
        " jerrys eyes ||\t132.974203446\n",
        "4"
       ]
      },
      {
       "output_type": "stream",
       "stream": "stdout",
       "text": [
        " jerrys eyes fell ||\t128.213877476\n",
        "5"
       ]
      },
      {
       "output_type": "stream",
       "stream": "stdout",
       "text": [
        " jerrys eyes fell on ||\t140.053523539\n",
        "6"
       ]
      },
      {
       "output_type": "stream",
       "stream": "stdout",
       "text": [
        " jerrys eyes fell on the ||\t124.471734281\n",
        "7"
       ]
      },
      {
       "output_type": "stream",
       "stream": "stdout",
       "text": [
        " jerrys eyes fell on the creatures ||\t112.671285279\n",
        "8"
       ]
      },
      {
       "output_type": "stream",
       "stream": "stdout",
       "text": [
        " jerrys eyes fell on the creatures head ||\t101.066089794\n",
        "9"
       ]
      },
      {
       "output_type": "stream",
       "stream": "stdout",
       "text": [
        " jerrys eyes fell on the creatures head he ||\t117.435028599\n",
        "10"
       ]
      },
      {
       "output_type": "stream",
       "stream": "stdout",
       "text": [
        " jerrys eyes fell on the creatures head he shuddered ||\t100.865334256\n",
        "11"
       ]
      },
      {
       "output_type": "stream",
       "stream": "stdout",
       "text": [
        " jerrys eyes fell on the creatures head he shuddered for ||\t149.321633215\n",
        "12"
       ]
      },
      {
       "output_type": "stream",
       "stream": "stdout",
       "text": [
        " jerrys eyes fell on the creatures head he shuddered for the ||\t187.314735473\n",
        "13"
       ]
      },
      {
       "output_type": "stream",
       "stream": "stdout",
       "text": [
        " jerrys eyes fell on the creatures head he shuddered for the face ||\t230.313555097\n",
        "14"
       ]
      },
      {
       "output_type": "stream",
       "stream": "stdout",
       "text": [
        " jerrys eyes fell on the creatures head he shuddered for the face was ||\t275.486752841\n",
        "15"
       ]
      },
      {
       "output_type": "stream",
       "stream": "stdout",
       "text": [
        " jerrys eyes fell on the creatures head he shuddered for the face was nothing ||\t344.488397819\n",
        "2"
       ]
      },
      {
       "output_type": "stream",
       "stream": "stdout",
       "text": [
        "  ||\t167.727964161\n",
        "3"
       ]
      },
      {
       "output_type": "stream",
       "stream": "stdout",
       "text": [
        " eyes ||\t148.9964571\n",
        "4"
       ]
      },
      {
       "output_type": "stream",
       "stream": "stdout",
       "text": [
        " eyes fell ||\t141.390197444\n",
        "5"
       ]
      },
      {
       "output_type": "stream",
       "stream": "stdout",
       "text": [
        " eyes fell on ||\t135.501069468\n",
        "6"
       ]
      },
      {
       "output_type": "stream",
       "stream": "stdout",
       "text": [
        " eyes fell on the ||\t119.255367342\n",
        "7"
       ]
      },
      {
       "output_type": "stream",
       "stream": "stdout",
       "text": [
        " eyes fell on the creatures ||\t107.454918084\n",
        "8"
       ]
      },
      {
       "output_type": "stream",
       "stream": "stdout",
       "text": [
        " eyes fell on the creatures head ||\t95.8497225986\n",
        "9"
       ]
      },
      {
       "output_type": "stream",
       "stream": "stdout",
       "text": [
        " eyes fell on the creatures head he ||\t112.218661404\n",
        "10"
       ]
      },
      {
       "output_type": "stream",
       "stream": "stdout",
       "text": [
        " eyes fell on the creatures head he shuddered ||\t95.6489670605\n",
        "11"
       ]
      },
      {
       "output_type": "stream",
       "stream": "stdout",
       "text": [
        " eyes fell on the creatures head he shuddered for ||\t144.105266019\n",
        "12"
       ]
      },
      {
       "output_type": "stream",
       "stream": "stdout",
       "text": [
        " eyes fell on the creatures head he shuddered for the ||\t182.098368277\n",
        "13"
       ]
      },
      {
       "output_type": "stream",
       "stream": "stdout",
       "text": [
        " eyes fell on the creatures head he shuddered for the face ||\t225.0971879\n",
        "14"
       ]
      },
      {
       "output_type": "stream",
       "stream": "stdout",
       "text": [
        " eyes fell on the creatures head he shuddered for the face was ||\t270.27033772\n",
        "15"
       ]
      },
      {
       "output_type": "stream",
       "stream": "stdout",
       "text": [
        " eyes fell on the creatures head he shuddered for the face was nothing ||\t326.209834412\n",
        "16"
       ]
      },
      {
       "output_type": "stream",
       "stream": "stdout",
       "text": [
        " eyes fell on the creatures head he shuddered for the face was nothing but ||\t362.160802734\n",
        "3"
       ]
      },
      {
       "output_type": "stream",
       "stream": "stdout",
       "text": [
        "  ||\t167.727964161\n",
        "4"
       ]
      },
      {
       "output_type": "stream",
       "stream": "stdout",
       "text": [
        " fell ||\t155.253499892\n",
        "5"
       ]
      },
      {
       "output_type": "stream",
       "stream": "stdout",
       "text": [
        " fell on ||\t148.567453761\n",
        "6"
       ]
      },
      {
       "output_type": "stream",
       "stream": "stdout",
       "text": [
        " fell on the ||\t125.487032273\n",
        "7"
       ]
      },
      {
       "output_type": "stream",
       "stream": "stdout",
       "text": [
        " fell on the creatures ||\t113.66835375\n",
        "8"
       ]
      },
      {
       "output_type": "stream",
       "stream": "stdout",
       "text": [
        " fell on the creatures head ||\t102.063158264\n",
        "9"
       ]
      },
      {
       "output_type": "stream",
       "stream": "stdout",
       "text": [
        " fell on the creatures head he ||\t118.432097067\n",
        "10"
       ]
      },
      {
       "output_type": "stream",
       "stream": "stdout",
       "text": [
        " fell on the creatures head he shuddered ||\t101.862402283\n",
        "11"
       ]
      },
      {
       "output_type": "stream",
       "stream": "stdout",
       "text": [
        " fell on the creatures head he shuddered for ||\t150.318700862\n",
        "12"
       ]
      },
      {
       "output_type": "stream",
       "stream": "stdout",
       "text": [
        " fell on the creatures head he shuddered for the ||\t183.448159688\n",
        "13"
       ]
      },
      {
       "output_type": "stream",
       "stream": "stdout",
       "text": [
        " fell on the creatures head he shuddered for the face ||\t200.132373996\n",
        "14"
       ]
      },
      {
       "output_type": "stream",
       "stream": "stdout",
       "text": [
        " fell on the creatures head he shuddered for the face was ||\t234.669358275\n",
        "15"
       ]
      },
      {
       "output_type": "stream",
       "stream": "stdout",
       "text": [
        " fell on the creatures head he shuddered for the face was nothing ||\t279.768007892\n",
        "16"
       ]
      },
      {
       "output_type": "stream",
       "stream": "stdout",
       "text": [
        " fell on the creatures head he shuddered for the face was nothing but ||\t315.718976215\n",
        "17"
       ]
      },
      {
       "output_type": "stream",
       "stream": "stdout",
       "text": [
        " fell on the creatures head he shuddered for the face was nothing but bone ||\t365.795829657\n",
        "4"
       ]
      },
      {
       "output_type": "stream",
       "stream": "stdout",
       "text": [
        "  ||\t167.727964161\n",
        "5"
       ]
      },
      {
       "output_type": "stream",
       "stream": "stdout",
       "text": [
        " on ||\t158.743933667\n",
        "6"
       ]
      },
      {
       "output_type": "stream",
       "stream": "stdout",
       "text": [
        " on the ||\t133.795148144\n",
        "7"
       ]
      },
      {
       "output_type": "stream",
       "stream": "stdout",
       "text": [
        " on the creatures ||\t120.027814041\n",
        "8"
       ]
      },
      {
       "output_type": "stream",
       "stream": "stdout",
       "text": [
        " on the creatures head ||\t108.422601827\n",
        "9"
       ]
      },
      {
       "output_type": "stream",
       "stream": "stdout",
       "text": [
        " on the creatures head he ||\t123.379846113\n",
        "10"
       ]
      },
      {
       "output_type": "stream",
       "stream": "stdout",
       "text": [
        " on the creatures head he shuddered ||\t101.964219694\n",
        "11"
       ]
      },
      {
       "output_type": "stream",
       "stream": "stdout",
       "text": [
        " on the creatures head he shuddered for ||\t149.789383367\n",
        "12"
       ]
      },
      {
       "output_type": "stream",
       "stream": "stdout",
       "text": [
        " on the creatures head he shuddered for the ||\t168.900966836\n",
        "13"
       ]
      },
      {
       "output_type": "stream",
       "stream": "stdout",
       "text": [
        " on the creatures head he shuddered for the face ||\t182.756690494\n",
        "14"
       ]
      },
      {
       "output_type": "stream",
       "stream": "stdout",
       "text": [
        " on the creatures head he shuddered for the face was ||\t217.293666535\n",
        "15"
       ]
      },
      {
       "output_type": "stream",
       "stream": "stdout",
       "text": [
        " on the creatures head he shuddered for the face was nothing ||\t262.287826358\n",
        "16"
       ]
      },
      {
       "output_type": "stream",
       "stream": "stdout",
       "text": [
        " on the creatures head he shuddered for the face was nothing but ||\t298.226663977\n",
        "17"
       ]
      },
      {
       "output_type": "stream",
       "stream": "stdout",
       "text": [
        " on the creatures head he shuddered for the face was nothing but bone ||\t332.310573544\n",
        "18"
       ]
      },
      {
       "output_type": "stream",
       "stream": "stdout",
       "text": [
        " on the creatures head he shuddered for the face was nothing but bone with ||\t369.998099933\n",
        "5"
       ]
      },
      {
       "output_type": "stream",
       "stream": "stdout",
       "text": [
        "  ||\t167.727964161\n",
        "6"
       ]
      },
      {
       "output_type": "stream",
       "stream": "stdout",
       "text": [
        " the ||\t146.467186667\n",
        "7"
       ]
      },
      {
       "output_type": "stream",
       "stream": "stdout",
       "text": [
        " the creatures ||\t120.780299238\n",
        "8"
       ]
      },
      {
       "output_type": "stream",
       "stream": "stdout",
       "text": [
        " the creatures head ||\t109.174939332\n",
        "9"
       ]
      },
      {
       "output_type": "stream",
       "stream": "stdout",
       "text": [
        " the creatures head he ||\t122.059584322\n",
        "10"
       ]
      },
      {
       "output_type": "stream",
       "stream": "stdout",
       "text": [
        " the creatures head he shuddered ||\t100.397417866\n",
        "11"
       ]
      },
      {
       "output_type": "stream",
       "stream": "stdout",
       "text": [
        " the creatures head he shuddered for ||\t128.565890432\n",
        "12"
       ]
      },
      {
       "output_type": "stream",
       "stream": "stdout",
       "text": [
        " the creatures head he shuddered for the ||\t146.918175107\n",
        "13"
       ]
      },
      {
       "output_type": "stream",
       "stream": "stdout",
       "text": [
        " the creatures head he shuddered for the face ||\t156.962062417\n",
        "14"
       ]
      },
      {
       "output_type": "stream",
       "stream": "stdout",
       "text": [
        " the creatures head he shuddered for the face was ||\t191.499032639\n",
        "15"
       ]
      },
      {
       "output_type": "stream",
       "stream": "stdout",
       "text": [
        " the creatures head he shuddered for the face was nothing ||\t235.009154889\n",
        "16"
       ]
      },
      {
       "output_type": "stream",
       "stream": "stdout",
       "text": [
        " the creatures head he shuddered for the face was nothing but ||\t270.867032923\n",
        "17"
       ]
      },
      {
       "output_type": "stream",
       "stream": "stdout",
       "text": [
        " the creatures head he shuddered for the face was nothing but bone ||\t302.949925554\n",
        "18"
       ]
      },
      {
       "output_type": "stream",
       "stream": "stdout",
       "text": [
        " the creatures head he shuddered for the face was nothing but bone with ||\t340.637035657\n",
        "19"
       ]
      },
      {
       "output_type": "stream",
       "stream": "stdout",
       "text": [
        " the creatures head he shuddered for the face was nothing but bone with dull-brown ||\t427.135712127\n",
        "6"
       ]
      },
      {
       "output_type": "stream",
       "stream": "stdout",
       "text": [
        "  ||\t167.727962315\n",
        "7"
       ]
      },
      {
       "output_type": "stream",
       "stream": "stdout",
       "text": [
        " creatures ||\t126.017120056\n",
        "8"
       ]
      },
      {
       "output_type": "stream",
       "stream": "stdout",
       "text": [
        " creatures head ||\t114.4117137\n",
        "9"
       ]
      },
      {
       "output_type": "stream",
       "stream": "stdout",
       "text": [
        " creatures head he ||\t124.464544487\n",
        "10"
       ]
      },
      {
       "output_type": "stream",
       "stream": "stdout",
       "text": [
        " creatures head he shuddered ||\t102.763325414\n",
        "11"
       ]
      },
      {
       "output_type": "stream",
       "stream": "stdout",
       "text": [
        " creatures head he shuddered for ||\t120.054477669\n",
        "12"
       ]
      },
      {
       "output_type": "stream",
       "stream": "stdout",
       "text": [
        " creatures head he shuddered for the ||\t138.40678587\n",
        "13"
       ]
      },
      {
       "output_type": "stream",
       "stream": "stdout",
       "text": [
        " creatures head he shuddered for the face ||\t148.422416543\n",
        "14"
       ]
      },
      {
       "output_type": "stream",
       "stream": "stdout",
       "text": [
        " creatures head he shuddered for the face was ||\t182.959175117\n",
        "15"
       ]
      },
      {
       "output_type": "stream",
       "stream": "stdout",
       "text": [
        " creatures head he shuddered for the face was nothing ||\t209.461301224\n",
        "16"
       ]
      },
      {
       "output_type": "stream",
       "stream": "stdout",
       "text": [
        " creatures head he shuddered for the face was nothing but ||\t245.29662239\n",
        "17"
       ]
      },
      {
       "output_type": "stream",
       "stream": "stdout",
       "text": [
        " creatures head he shuddered for the face was nothing but bone ||\t277.170090132\n",
        "18"
       ]
      },
      {
       "output_type": "stream",
       "stream": "stdout",
       "text": [
        " creatures head he shuddered for the face was nothing but bone with ||\t314.758011646\n",
        "19"
       ]
      },
      {
       "output_type": "stream",
       "stream": "stdout",
       "text": [
        " creatures head he shuddered for the face was nothing but bone with dull-brown ||\t401.25633156\n",
        "20"
       ]
      },
      {
       "output_type": "stream",
       "stream": "stdout",
       "text": [
        " creatures head he shuddered for the face was nothing but bone with dull-brown skin ||\t454.158801104\n",
        "7"
       ]
      },
      {
       "output_type": "stream",
       "stream": "stdout",
       "text": [
        "  ||\t167.727964161\n",
        "8"
       ]
      },
      {
       "output_type": "stream",
       "stream": "stdout",
       "text": [
        " head ||\t150.658050559\n",
        "9"
       ]
      },
      {
       "output_type": "stream",
       "stream": "stdout",
       "text": [
        " head he ||\t135.661273732\n",
        "10"
       ]
      },
      {
       "output_type": "stream",
       "stream": "stdout",
       "text": [
        " head he shuddered ||\t111.221077003\n",
        "11"
       ]
      },
      {
       "output_type": "stream",
       "stream": "stdout",
       "text": [
        " head he shuddered for ||\t117.7767923\n",
        "12"
       ]
      },
      {
       "output_type": "stream",
       "stream": "stdout",
       "text": [
        " head he shuddered for the ||\t133.27979256\n",
        "13"
       ]
      },
      {
       "output_type": "stream",
       "stream": "stdout",
       "text": [
        " head he shuddered for the face ||\t132.178127574\n",
        "14"
       ]
      },
      {
       "output_type": "stream",
       "stream": "stdout",
       "text": [
        " head he shuddered for the face was ||\t164.089634889\n",
        "15"
       ]
      },
      {
       "output_type": "stream",
       "stream": "stdout",
       "text": [
        " head he shuddered for the face was nothing ||\t180.961631929\n",
        "16"
       ]
      },
      {
       "output_type": "stream",
       "stream": "stdout",
       "text": [
        " head he shuddered for the face was nothing but ||\t207.539250006\n",
        "17"
       ]
      },
      {
       "output_type": "stream",
       "stream": "stdout",
       "text": [
        " head he shuddered for the face was nothing but bone ||\t225.480019867\n",
        "18"
       ]
      },
      {
       "output_type": "stream",
       "stream": "stdout",
       "text": [
        " head he shuddered for the face was nothing but bone with ||\t259.748722188\n",
        "19"
       ]
      },
      {
       "output_type": "stream",
       "stream": "stdout",
       "text": [
        " head he shuddered for the face was nothing but bone with dull-brown ||\t346.243606836\n",
        "20"
       ]
      },
      {
       "output_type": "stream",
       "stream": "stdout",
       "text": [
        " head he shuddered for the face was nothing but bone with dull-brown skin ||\t394.772067337\n",
        "21"
       ]
      },
      {
       "output_type": "stream",
       "stream": "stdout",
       "text": [
        " head he shuddered for the face was nothing but bone with dull-brown skin stretched ||\t445.597602152\n",
        "8"
       ]
      },
      {
       "output_type": "stream",
       "stream": "stdout",
       "text": [
        "  ||\t167.727964161\n",
        "9"
       ]
      },
      {
       "output_type": "stream",
       "stream": "stdout",
       "text": [
        " he ||\t155.601695865\n",
        "10"
       ]
      },
      {
       "output_type": "stream",
       "stream": "stdout",
       "text": [
        " he shuddered ||\t123.769975473\n",
        "11"
       ]
      },
      {
       "output_type": "stream",
       "stream": "stdout",
       "text": [
        " he shuddered for ||\t113.941328932\n",
        "12"
       ]
      },
      {
       "output_type": "stream",
       "stream": "stdout",
       "text": [
        " he shuddered for the ||\t119.216627711\n",
        "13"
       ]
      },
      {
       "output_type": "stream",
       "stream": "stdout",
       "text": [
        " he shuddered for the face ||\t112.989805185\n",
        "14"
       ]
      },
      {
       "output_type": "stream",
       "stream": "stdout",
       "text": [
        " he shuddered for the face was ||\t130.018790292\n",
        "15"
       ]
      },
      {
       "output_type": "stream",
       "stream": "stdout",
       "text": [
        " he shuddered for the face was nothing ||\t146.815212126\n",
        "16"
       ]
      },
      {
       "output_type": "stream",
       "stream": "stdout",
       "text": [
        " he shuddered for the face was nothing but ||\t173.392627356\n",
        "17"
       ]
      },
      {
       "output_type": "stream",
       "stream": "stdout",
       "text": [
        " he shuddered for the face was nothing but bone ||\t191.333397308\n",
        "18"
       ]
      },
      {
       "output_type": "stream",
       "stream": "stdout",
       "text": [
        " he shuddered for the face was nothing but bone with ||\t225.602103235\n",
        "19"
       ]
      },
      {
       "output_type": "stream",
       "stream": "stdout",
       "text": [
        " he shuddered for the face was nothing but bone with dull-brown ||\t312.052913528\n",
        "20"
       ]
      },
      {
       "output_type": "stream",
       "stream": "stdout",
       "text": [
        " he shuddered for the face was nothing but bone with dull-brown skin ||\t349.45836462\n",
        "21"
       ]
      },
      {
       "output_type": "stream",
       "stream": "stdout",
       "text": [
        " he shuddered for the face was nothing but bone with dull-brown skin stretched ||\t400.271166735\n",
        "22"
       ]
      },
      {
       "output_type": "stream",
       "stream": "stdout",
       "text": [
        " he shuddered for the face was nothing but bone with dull-brown skin stretched taut ||\t449.66358894\n",
        "9"
       ]
      },
      {
       "output_type": "stream",
       "stream": "stdout",
       "text": [
        "  ||\t167.727962315\n",
        "10"
       ]
      },
      {
       "output_type": "stream",
       "stream": "stdout",
       "text": [
        " shuddered ||\t136.213716472\n",
        "11"
       ]
      },
      {
       "output_type": "stream",
       "stream": "stdout",
       "text": [
        " shuddered for ||\t121.068390769\n",
        "12"
       ]
      },
      {
       "output_type": "stream",
       "stream": "stdout",
       "text": [
        " shuddered for the ||\t113.729408613\n",
        "13"
       ]
      },
      {
       "output_type": "stream",
       "stream": "stdout",
       "text": [
        " shuddered for the face ||\t107.502508683\n",
        "14"
       ]
      },
      {
       "output_type": "stream",
       "stream": "stdout",
       "text": [
        " shuddered for the face was ||\t124.5315126\n",
        "15"
       ]
      },
      {
       "output_type": "stream",
       "stream": "stdout",
       "text": [
        " shuddered for the face was nothing ||\t141.327912534\n",
        "16"
       ]
      },
      {
       "output_type": "stream",
       "stream": "stdout",
       "text": [
        " shuddered for the face was nothing but ||\t167.905327751\n",
        "17"
       ]
      },
      {
       "output_type": "stream",
       "stream": "stdout",
       "text": [
        " shuddered for the face was nothing but bone ||\t185.846097689\n",
        "18"
       ]
      },
      {
       "output_type": "stream",
       "stream": "stdout",
       "text": [
        " shuddered for the face was nothing but bone with ||\t220.110396755\n",
        "19"
       ]
      },
      {
       "output_type": "stream",
       "stream": "stdout",
       "text": [
        " shuddered for the face was nothing but bone with dull-brown ||\t299.375237792\n",
        "20"
       ]
      },
      {
       "output_type": "stream",
       "stream": "stdout",
       "text": [
        " shuddered for the face was nothing but bone with dull-brown skin ||\t333.637607379\n",
        "21"
       ]
      },
      {
       "output_type": "stream",
       "stream": "stdout",
       "text": [
        " shuddered for the face was nothing but bone with dull-brown skin stretched ||\t381.713743834\n",
        "22"
       ]
      },
      {
       "output_type": "stream",
       "stream": "stdout",
       "text": [
        " shuddered for the face was nothing but bone with dull-brown skin stretched taut ||\t429.303671902\n",
        "23"
       ]
      },
      {
       "output_type": "stream",
       "stream": "stdout",
       "text": [
        " shuddered for the face was nothing but bone with dull-brown skin stretched taut over ||\t451.547856409\n"
       ]
      }
     ],
     "prompt_number": 22
    },
    {
     "cell_type": "code",
     "collapsed": false,
     "input": [
      "possibilities = sorted(possibilities, key=lambda x: x[0])"
     ],
     "language": "python",
     "metadata": {},
     "outputs": [],
     "prompt_number": 23
    },
    {
     "cell_type": "code",
     "collapsed": false,
     "input": [
      "print possibilities[:10]"
     ],
     "language": "python",
     "metadata": {},
     "outputs": [
      {
       "output_type": "stream",
       "stream": "stdout",
       "text": [
        "[(array(95.6489670604678), 'eyes fell on the creatures head he shuddered'), (array(95.84972259858871), 'eyes fell on the creatures head'), (array(99.2314923339623), 'as jerrys eyes fell on the creatures head he shuddered'), (array(99.43223580372205), 'as jerrys eyes fell on the creatures head'), (array(100.39741786555828), 'the creatures head he shuddered'), (array(100.86533425608893), 'jerrys eyes fell on the creatures head he shuddered'), (array(101.06608979420983), 'jerrys eyes fell on the creatures head'), (array(101.86240228309859), 'fell on the creatures head he shuddered'), (array(101.9642196937769), 'on the creatures head he shuddered'), (array(102.06315826433529), 'fell on the creatures head')]\n"
       ]
      }
     ],
     "prompt_number": 26
    },
    {
     "cell_type": "code",
     "collapsed": false,
     "input": [],
     "language": "python",
     "metadata": {},
     "outputs": []
    }
   ],
   "metadata": {}
  }
 ]
}