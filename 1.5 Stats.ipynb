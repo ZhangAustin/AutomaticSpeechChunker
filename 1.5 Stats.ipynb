{
 "metadata": {
  "name": "",
  "signature": "sha256:636aa76322baed6b6f35f122ad43debf43804d43a34ffa1f47bb18acd1abddb7"
 },
 "nbformat": 3,
 "nbformat_minor": 0,
 "worksheets": [
  {
   "cells": [
    {
     "cell_type": "code",
     "collapsed": false,
     "input": [
      "import preprocessing_utilities as pp # Uilities for traversing the speech directory structure\n",
      "import cPickle as pickle\n",
      "import numpy as np\n",
      "import scipy.io.wavfile as wav\n",
      "import os"
     ],
     "language": "python",
     "metadata": {},
     "outputs": [],
     "prompt_number": 1
    },
    {
     "cell_type": "code",
     "collapsed": false,
     "input": [
      "root_directory = '/media/pat/JUMPER/speech_r1.5'\n",
      "if not root_directory.endswith('/'): root_directory += '/' # Ensure root_path ends with '/', cleans up the code a bit"
     ],
     "language": "python",
     "metadata": {},
     "outputs": [],
     "prompt_number": 2
    },
    {
     "cell_type": "code",
     "collapsed": false,
     "input": [
      "partition_directories = pp.get_story_segment_partition_paths(root_dir=root_directory)\n",
      "directories_to_chunk = []\n",
      "\n",
      "# For each partition directory\n",
      "for partition_directory in partition_directories:\n",
      "    if partition_directory.endswith('/'): partition_number = partition_directory.split('/')[-2]\n",
      "    else: partition_number = partition_directory.split('/')[-1]\n",
      "    \n",
      "    # if contains #.txt\n",
      "    if os.path.exists(os.path.join(partition_directory, partition_number+'.txt')):\n",
      "        directories_to_chunk.append(partition_directory)"
     ],
     "language": "python",
     "metadata": {},
     "outputs": [],
     "prompt_number": 3
    },
    {
     "cell_type": "code",
     "collapsed": false,
     "input": [
      "root_dir = root_directory\n",
      "total_files = 0\n",
      "total_audio_time = 0.0\n",
      "for partition_directory in directories_to_chunk:\n",
      "    # Get list of audio files\n",
      "    wav_files = [fname for fname in os.listdir(partition_directory) if fname.endswith('.wav')]\n",
      "\n",
      "    # Read audio files, store (path minus root_directory, sample_rate, num_samples)\n",
      "    meta_data = []\n",
      "    for fname in wav_files:\n",
      "        (rate,sig) = wav.read(os.path.join(partition_directory, fname))\n",
      "\n",
      "        # (path_of_file_relative_to_root_dir, sample_rate, number_samples)\n",
      "        meta_data.append(( \\\n",
      "                        os.path.join(partition_directory, fname).replace(root_dir, ''), \\\n",
      "                        rate, \\\n",
      "                        len(sig)))\n",
      "    total_files += len(wav_files)\n",
      "    total_audio_time += np.sum([x[2]/float(x[1]) for x in meta_data])"
     ],
     "language": "python",
     "metadata": {},
     "outputs": [
      {
       "output_type": "stream",
       "stream": "stderr",
       "text": [
        "/usr/local/lib/python2.7/dist-packages/scipy/io/wavfile.py:172: WavFileWarning: Chunk (non-data) not understood, skipping it.\n",
        "  WavFileWarning)\n"
       ]
      }
     ],
     "prompt_number": 4
    },
    {
     "cell_type": "code",
     "collapsed": false,
     "input": [
      "print total_files\n",
      "print total_audio_time"
     ],
     "language": "python",
     "metadata": {},
     "outputs": [
      {
       "output_type": "stream",
       "stream": "stdout",
       "text": [
        "26857\n",
        "79205.61\n"
       ]
      }
     ],
     "prompt_number": 5
    },
    {
     "cell_type": "code",
     "collapsed": false,
     "input": [
      "total_audio_time/60.0/60.0"
     ],
     "language": "python",
     "metadata": {},
     "outputs": [
      {
       "metadata": {},
       "output_type": "pyout",
       "prompt_number": 6,
       "text": [
        "22.001558333333321"
       ]
      }
     ],
     "prompt_number": 6
    },
    {
     "cell_type": "code",
     "collapsed": false,
     "input": [
      "total_audio_time/float(total_files)"
     ],
     "language": "python",
     "metadata": {},
     "outputs": [
      {
       "metadata": {},
       "output_type": "pyout",
       "prompt_number": 7,
       "text": [
        "2.9491607402167017"
       ]
      }
     ],
     "prompt_number": 7
    },
    {
     "cell_type": "code",
     "collapsed": false,
     "input": [],
     "language": "python",
     "metadata": {},
     "outputs": []
    }
   ],
   "metadata": {}
  }
 ]
}